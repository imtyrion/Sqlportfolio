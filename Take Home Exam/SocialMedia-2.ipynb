{
 "cells": [
  {
   "cell_type": "code",
   "execution_count": 61,
   "metadata": {
    "collapsed": true
   },
   "outputs": [],
   "source": [
    "import matplotlib.pyplot as plt\n",
    "import numpy as np\n",
    "import pandas as pd\n",
    "from scipy import stats\n",
    "import seaborn as sns"
   ]
  },
  {
   "cell_type": "code",
   "execution_count": 62,
   "metadata": {
    "collapsed": true
   },
   "outputs": [],
   "source": [
    "social= pd.read_csv(\"youtube.csv\",encoding='latin1')"
   ]
  },
  {
   "cell_type": "code",
   "execution_count": 63,
   "metadata": {},
   "outputs": [
    {
     "name": "stdout",
     "output_type": "stream",
     "text": [
      "<class 'pandas.core.frame.DataFrame'>\n",
      "RangeIndex: 150 entries, 0 to 149\n",
      "Data columns (total 9 columns):\n",
      "Id              150 non-null int64\n",
      "Title           150 non-null object\n",
      "viewCount       150 non-null int64\n",
      "channelId       150 non-null int64\n",
      "channelTitle    150 non-null object\n",
      "commentCount    150 non-null object\n",
      "likeCount       150 non-null int64\n",
      "dislikeCount    150 non-null int64\n",
      "tags            150 non-null object\n",
      "dtypes: int64(5), object(4)\n",
      "memory usage: 10.6+ KB\n"
     ]
    }
   ],
   "source": [
    "social.info()"
   ]
  },
  {
   "cell_type": "code",
   "execution_count": 64,
   "metadata": {},
   "outputs": [
    {
     "data": {
      "text/plain": [
       "Id              0\n",
       "Title           0\n",
       "viewCount       0\n",
       "channelId       0\n",
       "channelTitle    0\n",
       "commentCount    0\n",
       "likeCount       0\n",
       "dislikeCount    0\n",
       "tags            0\n",
       "dtype: int64"
      ]
     },
     "execution_count": 64,
     "metadata": {},
     "output_type": "execute_result"
    }
   ],
   "source": [
    "social.isnull().sum()"
   ]
  },
  {
   "cell_type": "code",
   "execution_count": 65,
   "metadata": {
    "collapsed": true
   },
   "outputs": [],
   "source": [
    "import sqlite3"
   ]
  },
  {
   "cell_type": "code",
   "execution_count": 66,
   "metadata": {},
   "outputs": [],
   "source": [
    "conn = sqlite3.connect(\"social.db\")\n",
    "c = conn.cursor()\n",
    "social.to_sql(\"database\",conn,if_exists='replace',index=False)"
   ]
  },
  {
   "cell_type": "code",
   "execution_count": 67,
   "metadata": {},
   "outputs": [],
   "source": [
    "social.to_sql('database',\n",
    "           con=conn,\n",
    "           if_exists='replace',\n",
    "           index=False)"
   ]
  },
  {
   "cell_type": "code",
   "execution_count": 68,
   "metadata": {},
   "outputs": [
    {
     "name": "stdout",
     "output_type": "stream",
     "text": [
      "   Id                                       Title  viewCount  channelId  \\\n",
      "0   1         Imagine Dragons - Whatever It Takes  270527441          1   \n",
      "1   2        Imagine Dragons - Next To Me (Audio)   49039668          1   \n",
      "2   3                   Imagine Dragons - Thunder  666077279          1   \n",
      "3   4                  Imagine Dragons - Believer  522262720          1   \n",
      "4   5                Imagine Dragons - Next To Me    9638457          1   \n",
      "5   6               Imagine Dragons - Radioactive  868107545          1   \n",
      "6   7         Imagine Dragons - Demons (Official)  620366299          1   \n",
      "7   8  Imagine Dragons - Walking The Wire (Audio)   42535982          1   \n",
      "8   9           Imagine Dragons - Thunder (Audio)   47057877          1   \n",
      "9  10             Imagine Dragons - I Bet My Life  118370719          1   \n",
      "\n",
      "         channelTitle commentCount  likeCount  dislikeCount  \\\n",
      "0  ImagineDragonsVEVO        62661    2216893         52929   \n",
      "1  ImagineDragonsVEVO        25752     616853         14695   \n",
      "2  ImagineDragonsVEVO       213703    4240502        210913   \n",
      "3  ImagineDragonsVEVO       187429    4614890        124434   \n",
      "4  ImagineDragonsVEVO        23988     382344         10296   \n",
      "5  ImagineDragonsVEVO       278059    4959597        157968   \n",
      "6  ImagineDragonsVEVO       141172    3632625         85757   \n",
      "7  ImagineDragonsVEVO        17703     493126          7980   \n",
      "8  ImagineDragonsVEVO        27878     582723         15337   \n",
      "9  ImagineDragonsVEVO        22384     820938         15911   \n",
      "\n",
      "                                                tags  \n",
      "0  ['Imagine Dragons', 'ImagineDragons', 'Whateve...  \n",
      "1  ['Imagine', 'Dragons', 'Next', 'To', 'Me', 'KI...  \n",
      "2  ['Imagine', 'Dragons', 'Thunder', 'KIDinaKORNE...  \n",
      "3  ['Imagine', 'Dragons', 'Believer', 'KIDinaKORN...  \n",
      "4  ['Imagine', 'Dragons', 'Next', 'To', 'Me', 'Ki...  \n",
      "5  ['Imagine', 'Dragons', 'Radioactive', 'Intersc...  \n",
      "6  ['Imagine Dragons', 'Demons', 'Interscope', 'A...  \n",
      "7  ['Imagine', 'Dragons', 'Walking', 'The', 'Wire...  \n",
      "8  ['Imagine', 'Dragons', 'Thunder', 'KIDinaKORNE...  \n",
      "9  ['Imagine Dragons', 'I Bet My Life', 'Imagine'...  \n"
     ]
    }
   ],
   "source": [
    "df = pd.read_sql('SELECT * FROM database LIMIT 10', con=conn)\n",
    "print(df)"
   ]
  },
  {
   "cell_type": "code",
   "execution_count": 69,
   "metadata": {},
   "outputs": [
    {
     "name": "stdout",
     "output_type": "stream",
     "text": [
      "         channelTitle  SUM(viewCount)\n",
      "0  ImagineDragonsVEVO      4074732248\n"
     ]
    }
   ],
   "source": [
    "df = pd.read_sql('SELECT channelTitle,SUM(viewCount) FROM database WHERE channelTitle=\"ImagineDragonsVEVO\" GROUP BY channelTitle', con=conn)\n",
    "print(df)"
   ]
  },
  {
   "cell_type": "code",
   "execution_count": 70,
   "metadata": {},
   "outputs": [],
   "source": [
    "id = pd.DataFrame(columns=['channelId','Id'])"
   ]
  },
  {
   "cell_type": "code",
   "execution_count": 71,
   "metadata": {},
   "outputs": [
    {
     "name": "stdout",
     "output_type": "stream",
     "text": [
      "<class 'pandas.core.frame.DataFrame'>\n",
      "Index: 0 entries\n",
      "Data columns (total 2 columns):\n",
      "channelId    0 non-null object\n",
      "Id           0 non-null object\n",
      "dtypes: object(2)\n",
      "memory usage: 0.0+ bytes\n"
     ]
    }
   ],
   "source": [
    "id.info()"
   ]
  },
  {
   "cell_type": "code",
   "execution_count": 72,
   "metadata": {},
   "outputs": [
    {
     "data": {
      "text/plain": [
       "channelId    0.0\n",
       "Id           0.0\n",
       "dtype: float64"
      ]
     },
     "execution_count": 72,
     "metadata": {},
     "output_type": "execute_result"
    }
   ],
   "source": [
    "id.isnull().sum()"
   ]
  },
  {
   "cell_type": "code",
   "execution_count": 73,
   "metadata": {
    "collapsed": true
   },
   "outputs": [],
   "source": [
    "id = social[['Id','channelId']]"
   ]
  },
  {
   "cell_type": "code",
   "execution_count": 118,
   "metadata": {},
   "outputs": [],
   "source": [
    "main = pd.DataFrame(columns=['Id','Title','viewCount','channelId','commentCount','likeCount','dislikeCount','tags'])"
   ]
  },
  {
   "cell_type": "code",
   "execution_count": 119,
   "metadata": {},
   "outputs": [
    {
     "name": "stdout",
     "output_type": "stream",
     "text": [
      "<class 'pandas.core.frame.DataFrame'>\n",
      "Index: 0 entries\n",
      "Data columns (total 8 columns):\n",
      "Id              0 non-null object\n",
      "Title           0 non-null object\n",
      "viewCount       0 non-null object\n",
      "channelId       0 non-null object\n",
      "commentCount    0 non-null object\n",
      "likeCount       0 non-null object\n",
      "dislikeCount    0 non-null object\n",
      "tags            0 non-null object\n",
      "dtypes: object(8)\n",
      "memory usage: 0.0+ bytes\n"
     ]
    }
   ],
   "source": [
    "main.info()"
   ]
  },
  {
   "cell_type": "code",
   "execution_count": 120,
   "metadata": {
    "collapsed": true
   },
   "outputs": [],
   "source": [
    "main = social[['Id','Title','viewCount','channelId','commentCount','likeCount','dislikeCount','tags']]"
   ]
  },
  {
   "cell_type": "code",
   "execution_count": 121,
   "metadata": {
    "collapsed": true
   },
   "outputs": [],
   "source": [
    "video = pd.DataFrame(columns=['channelId','channelTitle','Title'])"
   ]
  },
  {
   "cell_type": "code",
   "execution_count": 122,
   "metadata": {},
   "outputs": [
    {
     "name": "stdout",
     "output_type": "stream",
     "text": [
      "<class 'pandas.core.frame.DataFrame'>\n",
      "Index: 0 entries\n",
      "Data columns (total 3 columns):\n",
      "channelId       0 non-null object\n",
      "channelTitle    0 non-null object\n",
      "Title           0 non-null object\n",
      "dtypes: object(3)\n",
      "memory usage: 0.0+ bytes\n"
     ]
    }
   ],
   "source": [
    "video.info()"
   ]
  },
  {
   "cell_type": "code",
   "execution_count": 123,
   "metadata": {
    "collapsed": true
   },
   "outputs": [],
   "source": [
    "video = social[['channelId','channelTitle','Title']]"
   ]
  },
  {
   "cell_type": "code",
   "execution_count": 124,
   "metadata": {
    "collapsed": true
   },
   "outputs": [],
   "source": [
    "id.to_sql('idtable',\n",
    "           con=conn,\n",
    "           if_exists='replace',\n",
    "           index=False)"
   ]
  },
  {
   "cell_type": "code",
   "execution_count": 125,
   "metadata": {
    "collapsed": true
   },
   "outputs": [],
   "source": [
    "main.to_sql('maintable',\n",
    "           con=conn,\n",
    "           if_exists='replace',\n",
    "           index=False)"
   ]
  },
  {
   "cell_type": "code",
   "execution_count": 126,
   "metadata": {
    "collapsed": true
   },
   "outputs": [],
   "source": [
    "video.to_sql('videotable',\n",
    "           con=conn,\n",
    "           if_exists='replace',\n",
    "           index=False)"
   ]
  },
  {
   "cell_type": "code",
   "execution_count": 127,
   "metadata": {},
   "outputs": [
    {
     "name": "stdout",
     "output_type": "stream",
     "text": [
      "     channelId                   channelTitle  \\\n",
      "0            1             ImagineDragonsVEVO   \n",
      "1            1             ImagineDragonsVEVO   \n",
      "2            1             ImagineDragonsVEVO   \n",
      "3            1             ImagineDragonsVEVO   \n",
      "4            1             ImagineDragonsVEVO   \n",
      "5            1             ImagineDragonsVEVO   \n",
      "6            1             ImagineDragonsVEVO   \n",
      "7            1             ImagineDragonsVEVO   \n",
      "8            1             ImagineDragonsVEVO   \n",
      "9            1             ImagineDragonsVEVO   \n",
      "10           2                    Taz Network   \n",
      "11           3         IMAGINE DRAGONS VIDEOS   \n",
      "12           1             ImagineDragonsVEVO   \n",
      "13           1             ImagineDragonsVEVO   \n",
      "14           4                Lightning_Rider   \n",
      "15           5                        DIARTOB   \n",
      "16           1             ImagineDragonsVEVO   \n",
      "17           6             Imagine Dragons AU   \n",
      "18           7                        Natalia   \n",
      "19           8                    Royal Music   \n",
      "20           2                    Taz Network   \n",
      "21           1             ImagineDragonsVEVO   \n",
      "22           9              League of Legends   \n",
      "23           1             ImagineDragonsVEVO   \n",
      "24          10                  Pixl Networks   \n",
      "25           1             ImagineDragonsVEVO   \n",
      "26          11                      Proximity   \n",
      "27          12                    Josh Manuel   \n",
      "28          13           IMAGINE DRAGONS LIVE   \n",
      "29           4                Lightning_Rider   \n",
      "..         ...                            ...   \n",
      "120         66                   Short-E Show   \n",
      "121         54                      DrakeVEVO   \n",
      "122         67                         Poison   \n",
      "123         68    Fortnite Moments - Xtremify   \n",
      "124         69                    FudgeMuppet   \n",
      "125         70                  Drake Sincero   \n",
      "126         49  Breakfast Club Power 105.1 FM   \n",
      "127         71                       GabePWNZ   \n",
      "128         72                    Drake Media   \n",
      "129         54                      DrakeVEVO   \n",
      "130         73                 cashmoneypromo   \n",
      "131         74             World Best Dancers   \n",
      "132         75               Curlyheadcharles   \n",
      "133         76         Juguetes Fantsticos !   \n",
      "134         77          Quality Control Music   \n",
      "135         78           Zay Rashod Reactions   \n",
      "136         57                          Drake   \n",
      "137         46                  HipHop Sounds   \n",
      "138         54                      DrakeVEVO   \n",
      "139         54                      DrakeVEVO   \n",
      "140         79                        MrWogee   \n",
      "141         60              D&B ENT Reactions   \n",
      "142         80                   XXYungLordXX   \n",
      "143         81                      Lil Wayne   \n",
      "144         82                       NERDVEVO   \n",
      "145         83                     FutureVEVO   \n",
      "146         54                      DrakeVEVO   \n",
      "147         84                   ConnManMixes   \n",
      "148         85                  DJ DISCRETION   \n",
      "149         86                 Lyrics Central   \n",
      "\n",
      "                                                 Title  \n",
      "0                  Imagine Dragons - Whatever It Takes  \n",
      "1                 Imagine Dragons - Next To Me (Audio)  \n",
      "2                            Imagine Dragons - Thunder  \n",
      "3                           Imagine Dragons - Believer  \n",
      "4                         Imagine Dragons - Next To Me  \n",
      "5                        Imagine Dragons - Radioactive  \n",
      "6                  Imagine Dragons - Demons (Official)  \n",
      "7           Imagine Dragons - Walking The Wire (Audio)  \n",
      "8                    Imagine Dragons - Thunder (Audio)  \n",
      "9                      Imagine Dragons - I Bet My Life  \n",
      "10                           Imagine Dragons ? Rise Up  \n",
      "11          Imagine Dragons - Lollapalooza Brasil 2018  \n",
      "12   Imagine Dragons - On Top Of The World (Officia...  \n",
      "13                         Imagine Dragons - It's Time  \n",
      "14                            Demons - Imagine Dragons  \n",
      "15          ? Imagine Dragons - Believer (with lyrics)  \n",
      "16                  Imagine Dragons - Believer (Audio)  \n",
      "17   Imagine Dragons Live 2017 EVOLVE TOUR Full Con...  \n",
      "18           Ready, Aim, Fire - Imagine Dragons Lyrics  \n",
      "19    Imagine Dragons - Thunder (Lyrics / Lyric Video)  \n",
      "20   Imagine Dragons - Whatever It Takes (Lyrics / ...  \n",
      "21         Imagine Dragons - Whatever It Takes (Audio)  \n",
      "22   Imagine Dragons: Warriors | Worlds 2014 - Leag...  \n",
      "23                              Imagine Dragons - Gold  \n",
      "24      Imagine Dragons Ð Whatever It Takes (Lyrics) ?  \n",
      "25   Imagine Dragons, Khalid - Thunder / Young Dumb...  \n",
      "26      Imagine Dragons Ð I Don't Know Why [Exclusive]  \n",
      "27                  Imagine Dragons - Monster (Lyrics)  \n",
      "28           Imagine Dragons - Southside Festival 2017  \n",
      "29                    Ready Aim Fire - Imagine Dragons  \n",
      "..                                                 ...  \n",
      "120                        DRAKE MEGA MIX - DJ SHORT-E  \n",
      "121                      Drake - Take Care ft. Rihanna  \n",
      "122                              Drake - Teenage Fever  \n",
      "123  DRAKE CONFIRMS FORTNITE SONG ON NINJA'S STREAM...  \n",
      "124  Do you know about the Reachmen Emperor? - Durc...  \n",
      "125  Drake Sincero AO VIVO -Nota 95 de God of War c...  \n",
      "126  Nicki Minaj Says Meek Mill and Drake's Beef Wa...  \n",
      "127                     Drake - Nice For What (Lyrics)  \n",
      "128             Drake - Pistols (Official Music Video)  \n",
      "129  Drake - Hold On, WeÕre Going Home ft. Majid Jo...  \n",
      "130              Drake - Marvins Room (Official Video)  \n",
      "131  GOD'S PLAN - DRAKE DANCE (Trap Remix) Brotherh...  \n",
      "132     Drake- Ò Nice for WhatÓ (Official dance video)  \n",
      "133  DRAKE y JOSH con MANGO y CHICOZAPOTE Distrolle...  \n",
      "134  Migos - Walk it Talk it Ft. Drake (Cookin Soul...  \n",
      "135  Drake - Nice For What Reaction Video (SUPER PO...  \n",
      "136                               Drake - Trust Issues  \n",
      "137                        Drake - God's Plan (Lyrics)  \n",
      "138  Drake - HYFR (Hell Ya Fucking Right) (Explicit...  \n",
      "139                             Drake - Worst Behavior  \n",
      "140                    Drake - Too Much (feat  Sampha)  \n",
      "141  DRAKE VS EMINEM - WHAT THE BATTLE WOULD SOUND ...  \n",
      "142            ??? REACTION! ??? Drake - Nice For What  \n",
      "143  Lil Wayne - Family Feud feat. Drake (Official ...  \n",
      "144  N.E.R.D, Rihanna - Lemon (Drake Remix - Audio)...  \n",
      "145                    Future - Used to This ft. Drake  \n",
      "146                             Drake - Find Your Love  \n",
      "147        Odell Beckham Mix - \"Nice For What\" / Drake  \n",
      "148  Drake & 2Pac - Nice For What (Remix ft. Notori...  \n",
      "149                       Drake - Nice For What Lyrics  \n",
      "\n",
      "[150 rows x 3 columns]\n"
     ]
    }
   ],
   "source": [
    "df = pd.read_sql_query('SELECT * FROM videotable', con=conn)\n",
    "print(df)"
   ]
  },
  {
   "cell_type": "code",
   "execution_count": 128,
   "metadata": {},
   "outputs": [
    {
     "name": "stdout",
     "output_type": "stream",
     "text": [
      "      Id                                              Title  viewCount  \\\n",
      "0      1                Imagine Dragons - Whatever It Takes  270527441   \n",
      "1      2               Imagine Dragons - Next To Me (Audio)   49039668   \n",
      "2      3                          Imagine Dragons - Thunder  666077279   \n",
      "3      4                         Imagine Dragons - Believer  522262720   \n",
      "4      5                       Imagine Dragons - Next To Me    9638457   \n",
      "5      6                      Imagine Dragons - Radioactive  868107545   \n",
      "6      7                Imagine Dragons - Demons (Official)  620366299   \n",
      "7      8         Imagine Dragons - Walking The Wire (Audio)   42535982   \n",
      "8      9                  Imagine Dragons - Thunder (Audio)   47057877   \n",
      "9     10                    Imagine Dragons - I Bet My Life  118370719   \n",
      "10    11                          Imagine Dragons ? Rise Up    3060231   \n",
      "11    12         Imagine Dragons - Lollapalooza Brasil 2018     288569   \n",
      "12    13  Imagine Dragons - On Top Of The World (Officia...  204560556   \n",
      "13    14                        Imagine Dragons - It's Time  348138828   \n",
      "14    15                           Demons - Imagine Dragons  182718724   \n",
      "15    16         ? Imagine Dragons - Believer (with lyrics)   49513122   \n",
      "16    17                 Imagine Dragons - Believer (Audio)   90777081   \n",
      "17    18  Imagine Dragons Live 2017 EVOLVE TOUR Full Con...     943345   \n",
      "18    19          Ready, Aim, Fire - Imagine Dragons Lyrics   20966394   \n",
      "19    20   Imagine Dragons - Thunder (Lyrics / Lyric Video)   41434295   \n",
      "20    21  Imagine Dragons - Whatever It Takes (Lyrics / ...   15124942   \n",
      "21    22        Imagine Dragons - Whatever It Takes (Audio)   42261301   \n",
      "22    23  Imagine Dragons: Warriors | Worlds 2014 - Leag...  130619889   \n",
      "23    24                             Imagine Dragons - Gold   52188368   \n",
      "24    25     Imagine Dragons Ð Whatever It Takes (Lyrics) ?    3298480   \n",
      "25    26  Imagine Dragons, Khalid - Thunder / Young Dumb...   10991440   \n",
      "26    27     Imagine Dragons Ð I Don't Know Why [Exclusive]    6878699   \n",
      "27    28                 Imagine Dragons - Monster (Lyrics)   52037361   \n",
      "28    29          Imagine Dragons - Southside Festival 2017    1021197   \n",
      "29    30                   Ready Aim Fire - Imagine Dragons    2504708   \n",
      "..   ...                                                ...        ...   \n",
      "120  121                        DRAKE MEGA MIX - DJ SHORT-E      22971   \n",
      "121  122                      Drake - Take Care ft. Rihanna  252270785   \n",
      "122  123                              Drake - Teenage Fever   21107898   \n",
      "123  124  DRAKE CONFIRMS FORTNITE SONG ON NINJA'S STREAM...      29792   \n",
      "124  125  Do you know about the Reachmen Emperor? - Durc...      22482   \n",
      "125  126  Drake Sincero AO VIVO -Nota 95 de God of War c...       4918   \n",
      "126  127  Nicki Minaj Says Meek Mill and Drake's Beef Wa...     249071   \n",
      "127  128                     Drake - Nice For What (Lyrics)     316286   \n",
      "128  129             Drake - Pistols (Official Music Video)     603535   \n",
      "129  130  Drake - Hold On, WeÕre Going Home ft. Majid Jo...  129406121   \n",
      "130  131              Drake - Marvins Room (Official Video)   69030088   \n",
      "131  132  GOD'S PLAN - DRAKE DANCE (Trap Remix) Brotherh...        278   \n",
      "132  133     Drake- Ò Nice for WhatÓ (Official dance video)       2263   \n",
      "133  134  DRAKE y JOSH con MANGO y CHICOZAPOTE Distrolle...       4586   \n",
      "134  135  Migos - Walk it Talk it Ft. Drake (Cookin Soul...      17631   \n",
      "135  136  Drake - Nice For What Reaction Video (SUPER PO...        227   \n",
      "136  137                               Drake - Trust Issues   11728339   \n",
      "137  138                        Drake - God's Plan (Lyrics)     393532   \n",
      "138  139  Drake - HYFR (Hell Ya Fucking Right) (Explicit...   53286970   \n",
      "139  140                             Drake - Worst Behavior  138283983   \n",
      "140  141                    Drake - Too Much (feat  Sampha)   36938804   \n",
      "141  142  DRAKE VS EMINEM - WHAT THE BATTLE WOULD SOUND ...       9988   \n",
      "142  143            ??? REACTION! ??? Drake - Nice For What      60987   \n",
      "143  144  Lil Wayne - Family Feud feat. Drake (Official ...   13301278   \n",
      "144  145  N.E.R.D, Rihanna - Lemon (Drake Remix - Audio)...    2908554   \n",
      "145  146                    Future - Used to This ft. Drake  112695826   \n",
      "146  147                             Drake - Find Your Love  116827841   \n",
      "147  148        Odell Beckham Mix - \"Nice For What\" / Drake       2224   \n",
      "148  149  Drake & 2Pac - Nice For What (Remix ft. Notori...      12648   \n",
      "149  150                       Drake - Nice For What Lyrics    1096640   \n",
      "\n",
      "     channelId commentCount  likeCount  dislikeCount  \\\n",
      "0            1        62661    2216893         52929   \n",
      "1            1        25752     616853         14695   \n",
      "2            1       213703    4240502        210913   \n",
      "3            1       187429    4614890        124434   \n",
      "4            1        23988     382344         10296   \n",
      "5            1       278059    4959597        157968   \n",
      "6            1       141172    3632625         85757   \n",
      "7            1        17703     493126          7980   \n",
      "8            1        27878     582723         15337   \n",
      "9            1        22384     820938         15911   \n",
      "10           2          682      15615           700   \n",
      "11           3         1106      16555           208   \n",
      "12           1        37709     957686         24168   \n",
      "13           1        63933    1702786         39649   \n",
      "14           4        48853     642307         19174   \n",
      "15           5        24384     302105         14186   \n",
      "16           1        43048    1004825         25111   \n",
      "17           6          822      14890           322   \n",
      "18           7         6432      92929          4485   \n",
      "19           8        18450     234617         12657   \n",
      "20           2         4979      97686          3435   \n",
      "21           1        22788     554087          9489   \n",
      "22           9        78362    1239458         25180   \n",
      "23           1        14160     386193          7769   \n",
      "24          10          656      14859           567   \n",
      "25           1         7352     186347          5774   \n",
      "26          11         1698      61315          1872   \n",
      "27          12        22782     258527          6676   \n",
      "28          13          649      11546           207   \n",
      "29           4         1019      16211           502   \n",
      "..         ...          ...        ...           ...   \n",
      "120         66            7        188            25   \n",
      "121         54        61077    1191456         43845   \n",
      "122         67         2560     141414          6010   \n",
      "123         68           44        231            28   \n",
      "124         69          138       1303            19   \n",
      "125         70           56        531            43   \n",
      "126         49          997       1869           124   \n",
      "127         71          114       3763           155   \n",
      "128         72          250       6962           352   \n",
      "129         54        50424     739051         41287   \n",
      "130         73        32268     263578          8829   \n",
      "131         74            7         25             2   \n",
      "132         75           86        470             5   \n",
      "133         76           97        217            11   \n",
      "134         77          131        856            75   \n",
      "135         78            4         27             0   \n",
      "136         57         2605      99535          2672   \n",
      "137         46          282       6371           161   \n",
      "138         54        27996     286297         17847   \n",
      "139         54        31196     636002         40898   \n",
      "140         79         7996     192216          8176   \n",
      "141         60          113        359            12   \n",
      "142         80          194       2412            16   \n",
      "143         81        18288     171375         10457   \n",
      "144         82         2653      50416          3035   \n",
      "145         83        44166     709349         64586   \n",
      "146         54        47063     412721         17518   \n",
      "147         84           12         77             0   \n",
      "148         85           97       1339             7   \n",
      "149         86          442      14455           498   \n",
      "\n",
      "                                                  tags  \n",
      "0    ['Imagine Dragons', 'ImagineDragons', 'Whateve...  \n",
      "1    ['Imagine', 'Dragons', 'Next', 'To', 'Me', 'KI...  \n",
      "2    ['Imagine', 'Dragons', 'Thunder', 'KIDinaKORNE...  \n",
      "3    ['Imagine', 'Dragons', 'Believer', 'KIDinaKORN...  \n",
      "4    ['Imagine', 'Dragons', 'Next', 'To', 'Me', 'Ki...  \n",
      "5    ['Imagine', 'Dragons', 'Radioactive', 'Intersc...  \n",
      "6    ['Imagine Dragons', 'Demons', 'Interscope', 'A...  \n",
      "7    ['Imagine', 'Dragons', 'Walking', 'The', 'Wire...  \n",
      "8    ['Imagine', 'Dragons', 'Thunder', 'KIDinaKORNE...  \n",
      "9    ['Imagine Dragons', 'I Bet My Life', 'Imagine'...  \n",
      "10   ['taz network', 'edm', 'electronic dance music...  \n",
      "11   ['imagine dragons', 'imagine dragons live', 'i...  \n",
      "12   ['Imagine', 'Dragons', 'On', 'Top', 'Of', 'The...  \n",
      "13   ['Imagine', 'Dragons', \"It's\", 'Time', 'Inters...  \n",
      "14                        ['demons', 'imagine dragon']  \n",
      "15   ['Imagine Dragons', 'Believer', 'with lyrics',...  \n",
      "16   ['Imagine', 'Dragons', 'Believer', 'KIDinaKORN...  \n",
      "17   ['Imagine Dragons', 'Imagine Dragons Live', 'I...  \n",
      "18   ['Lyrics', 'Full', 'Fire', 'Song', 'Album', 'N...  \n",
      "19   ['imagine dragons', 'thunder', 'imagine dragon...  \n",
      "20   ['imagine dragons whatever it takes', 'whateve...  \n",
      "21   ['Imagine', 'Dragons', 'Whatever', 'It', 'Take...  \n",
      "22   ['Riot Games', 'Riot', 'League of Legends', 'L...  \n",
      "23   ['Imagine', 'Dragons', 'Gold', 'Interscope', '...  \n",
      "24   ['pixl networks', 'pop', 'pop music', 'imagine...  \n",
      "25   ['Imagine', 'Dragons', 'Khalid', 'Thunder', 'Y...  \n",
      "26   ['Proximity', 'Imagine Dragons', \"I Don't Know...  \n",
      "27   ['imagine', 'dragons', '2013', 'new', 'song', ...  \n",
      "28   ['Imagine Dragons Southside Festival 2017', 'i...  \n",
      "29   ['Ready Aim Fire', 'Imagine Dragons (Musical A...  \n",
      "..                                                 ...  \n",
      "120  ['drake mega mix', 'mashup', 'mixes', 'drake n...  \n",
      "121  ['Drake', 'Take', 'Care', 'Cash', 'Money', 'Re...  \n",
      "122                                                 []  \n",
      "123  ['best', 'fortnite', 'clips', 'of the week', '...  \n",
      "124  ['skyrim', 'forsworn', 'elder scrolls', 'elder...  \n",
      "125  ['Ps4', 'Ps4 Pro', 'Sony', 'Microsoft', 'Xbox ...  \n",
      "126  ['the breakfast club', 'power1051', 'celebrity...  \n",
      "127  ['drake', 'octobers very own', 'ovo', 'ovo sou...  \n",
      "128  [drake', 'octobers very own', 'ovo', 'ovo soun...  \n",
      "129  ['Drake', 'Drizzy', 'Majid Jordan', 'Hold On',...  \n",
      "130  ['drake', 'marvins', 'room', 'take', 'care', \"...  \n",
      "131  ['gods plan drake', 'gods plan dance', 'brothe...  \n",
      "132                                                 []  \n",
      "133  ['juguetes fantasticos', 'historias fantastica...  \n",
      "134  ['migos', 'walk it talk it', 'drake', 'cookin ...  \n",
      "135  ['Drake', 'Nice', 'For', 'What', 'Young', 'Mon...  \n",
      "136  ['drake', 'trust', 'issues', 'trust issues', '...  \n",
      "137  [\"drake god's plan lyrics\", 'drake', \"god's pl...  \n",
      "138  ['Drake', 'HYFR', '(Hell', 'Ya', 'Fucking', 'R...  \n",
      "139  ['Drake', 'Worst', 'Behavior', 'Cash', 'Money'...  \n",
      "140                         ['Drake (Musical Artist)']  \n",
      "141  ['drake vs eminem', 'drake vs eminem reaction'...  \n",
      "142  ['xxyunglordxx', 'akdacannon', 'Rap', 'hiphop'...  \n",
      "143  ['lil wayne', 'weezy', 'weezy wednesday', 'way...  \n",
      "144  ['Hip Hop', 'Lemon', 'N.E.R.D & Rihanna feat. ...  \n",
      "145  ['#WATTBA', 'Drake', 'DS2', 'EVOL', 'Freebandz...  \n",
      "146  ['Drake', 'Cash Money', 'Young Money', 'Ent./U...  \n",
      "147  ['odell', 'odell mix', 'odell beckham', 'odell...  \n",
      "148  ['DJ', 'Discretion', 'Drake', '2Pac', 'Notorio...  \n",
      "149  ['Murda Beats', 'Drake', 'Nice For What', 'Dra...  \n",
      "\n",
      "[150 rows x 8 columns]\n"
     ]
    }
   ],
   "source": [
    "df = pd.read_sql_query('SELECT * FROM maintable', con=conn)\n",
    "print(df)"
   ]
  },
  {
   "cell_type": "code",
   "execution_count": 129,
   "metadata": {},
   "outputs": [
    {
     "name": "stdout",
     "output_type": "stream",
     "text": [
      "      Id  channelId\n",
      "0      1          1\n",
      "1      2          1\n",
      "2      3          1\n",
      "3      4          1\n",
      "4      5          1\n",
      "5      6          1\n",
      "6      7          1\n",
      "7      8          1\n",
      "8      9          1\n",
      "9     10          1\n",
      "10    11          2\n",
      "11    12          3\n",
      "12    13          1\n",
      "13    14          1\n",
      "14    15          4\n",
      "15    16          5\n",
      "16    17          1\n",
      "17    18          6\n",
      "18    19          7\n",
      "19    20          8\n",
      "20    21          2\n",
      "21    22          1\n",
      "22    23          9\n",
      "23    24          1\n",
      "24    25         10\n",
      "25    26          1\n",
      "26    27         11\n",
      "27    28         12\n",
      "28    29         13\n",
      "29    30          4\n",
      "..   ...        ...\n",
      "120  121         66\n",
      "121  122         54\n",
      "122  123         67\n",
      "123  124         68\n",
      "124  125         69\n",
      "125  126         70\n",
      "126  127         49\n",
      "127  128         71\n",
      "128  129         72\n",
      "129  130         54\n",
      "130  131         73\n",
      "131  132         74\n",
      "132  133         75\n",
      "133  134         76\n",
      "134  135         77\n",
      "135  136         78\n",
      "136  137         57\n",
      "137  138         46\n",
      "138  139         54\n",
      "139  140         54\n",
      "140  141         79\n",
      "141  142         60\n",
      "142  143         80\n",
      "143  144         81\n",
      "144  145         82\n",
      "145  146         83\n",
      "146  147         54\n",
      "147  148         84\n",
      "148  149         85\n",
      "149  150         86\n",
      "\n",
      "[150 rows x 2 columns]\n"
     ]
    }
   ],
   "source": [
    "df = pd.read_sql_query('SELECT * FROM idtable', con=conn)\n",
    "print(df)"
   ]
  },
  {
   "cell_type": "markdown",
   "metadata": {},
   "source": [
    "## JOIN QUERY\n",
    "#### 14. Select and filter some data from a table created by a join."
   ]
  },
  {
   "cell_type": "code",
   "execution_count": 133,
   "metadata": {},
   "outputs": [
    {
     "name": "stdout",
     "output_type": "stream",
     "text": [
      "     viewCount        channelTitle\n",
      "0    270527441  ImagineDragonsVEVO\n",
      "1    270527441  ImagineDragonsVEVO\n",
      "2    270527441  ImagineDragonsVEVO\n",
      "3    270527441  ImagineDragonsVEVO\n",
      "4    270527441  ImagineDragonsVEVO\n",
      "5    270527441  ImagineDragonsVEVO\n",
      "6    270527441  ImagineDragonsVEVO\n",
      "7    270527441  ImagineDragonsVEVO\n",
      "8    270527441  ImagineDragonsVEVO\n",
      "9    270527441  ImagineDragonsVEVO\n",
      "10   270527441  ImagineDragonsVEVO\n",
      "11   270527441  ImagineDragonsVEVO\n",
      "12   270527441  ImagineDragonsVEVO\n",
      "13   270527441  ImagineDragonsVEVO\n",
      "14   270527441  ImagineDragonsVEVO\n",
      "15   270527441  ImagineDragonsVEVO\n",
      "16   270527441  ImagineDragonsVEVO\n",
      "17   270527441  ImagineDragonsVEVO\n",
      "18   270527441  ImagineDragonsVEVO\n",
      "19   666077279  ImagineDragonsVEVO\n",
      "20   666077279  ImagineDragonsVEVO\n",
      "21   666077279  ImagineDragonsVEVO\n",
      "22   666077279  ImagineDragonsVEVO\n",
      "23   666077279  ImagineDragonsVEVO\n",
      "24   666077279  ImagineDragonsVEVO\n",
      "25   666077279  ImagineDragonsVEVO\n",
      "26   666077279  ImagineDragonsVEVO\n",
      "27   666077279  ImagineDragonsVEVO\n",
      "28   666077279  ImagineDragonsVEVO\n",
      "29   666077279  ImagineDragonsVEVO\n",
      "..         ...                 ...\n",
      "249  129406121           DrakeVEVO\n",
      "250  129406121           DrakeVEVO\n",
      "251  129406121           DrakeVEVO\n",
      "252  129406121           DrakeVEVO\n",
      "253  129406121           DrakeVEVO\n",
      "254  129406121           DrakeVEVO\n",
      "255  129406121           DrakeVEVO\n",
      "256  138283983           DrakeVEVO\n",
      "257  138283983           DrakeVEVO\n",
      "258  138283983           DrakeVEVO\n",
      "259  138283983           DrakeVEVO\n",
      "260  138283983           DrakeVEVO\n",
      "261  138283983           DrakeVEVO\n",
      "262  138283983           DrakeVEVO\n",
      "263  138283983           DrakeVEVO\n",
      "264  138283983           DrakeVEVO\n",
      "265  138283983           DrakeVEVO\n",
      "266  138283983           DrakeVEVO\n",
      "267  112695826          FutureVEVO\n",
      "268  116827841           DrakeVEVO\n",
      "269  116827841           DrakeVEVO\n",
      "270  116827841           DrakeVEVO\n",
      "271  116827841           DrakeVEVO\n",
      "272  116827841           DrakeVEVO\n",
      "273  116827841           DrakeVEVO\n",
      "274  116827841           DrakeVEVO\n",
      "275  116827841           DrakeVEVO\n",
      "276  116827841           DrakeVEVO\n",
      "277  116827841           DrakeVEVO\n",
      "278  116827841           DrakeVEVO\n",
      "\n",
      "[279 rows x 2 columns]\n"
     ]
    }
   ],
   "source": [
    "df = pd.read_sql('SELECT maintable.viewCount,videotable.channelTitle FROM maintable INNER JOIN videotable ON videotable.channelId=maintable.channelId WHERE maintable.viewCount > 100000000', con=conn)\n",
    "print(df)"
   ]
  },
  {
   "cell_type": "markdown",
   "metadata": {},
   "source": [
    "### 15.  Why not put all the data in one big table and avoid all of these joins?  \n",
    "\n",
    "#### a) It is against the rule of Normalization\n",
    "#### b) We use join on temporary basis, but if every attribute is in one single table then the file will become cumbersome to run any query or functionality.\n",
    "#### c) It does not enforce referential integrity of data\n",
    "#### d) It affects database performance if all the attributes are in one single table.\n"
   ]
  },
  {
   "cell_type": "markdown",
   "metadata": {},
   "source": [
    "### 10. Subselect columns using a subquery.  "
   ]
  },
  {
   "cell_type": "code",
   "execution_count": 134,
   "metadata": {},
   "outputs": [
    {
     "name": "stdout",
     "output_type": "stream",
     "text": [
      "    Id                                              Title  viewCount  \\\n",
      "0   51      Cardi B - Bodak Yellow [OFFICIAL MUSIC VIDEO]  528613832   \n",
      "1   52          Cardi B - I Do feat. SZA [Official Audio]    8441424   \n",
      "2   54              Cardi B - Be Careful [Official Audio]   17052762   \n",
      "3   57        Cardi B - Drip feat. Migos [Official Audio]   12209497   \n",
      "4   59  Cardi B - Bartier Cardi (feat. 21 Savage) [Off...    9787843   \n",
      "5   60  Cardi B, Bad Bunny & J Balvin - I Like It [Off...   12832251   \n",
      "6   61      Cardi B - Ring feat. Kehlani [Official Audio]    5340714   \n",
      "7   63               Cardi B - Money Bag [Official Audio]    2800570   \n",
      "8   64         Cardi B - Thru Your Phone [Official Audio]    3103471   \n",
      "9   65               Cardi B - Get Up 10 [Official Audio]    3368733   \n",
      "10  68            Cardi B & YG - She Bad [Official Audio]    3300274   \n",
      "11  69  Cardi B - Best Life feat. Chance The Rapper [O...    3974230   \n",
      "12  70              Cardi B - Bickenhead [Official Audio]    2583714   \n",
      "13  71  Cardi B - Lick (feat. Offset) [OFFICIAL MUSIC ...    5746166   \n",
      "\n",
      "    channelId commentCount  likeCount  dislikeCount  \\\n",
      "0          28       298211    3904809        428075   \n",
      "1          28         7457     179195          3577   \n",
      "2          28        35080     400342         21749   \n",
      "3          28        20297     257511         12185   \n",
      "4          28        23855     313360         14539   \n",
      "5          28        14480     303879          9673   \n",
      "6          28         4951     122308          1758   \n",
      "7          28         3620      58356          1252   \n",
      "8          28         5376      83109          1195   \n",
      "9          28         5640      83955          1329   \n",
      "10         28         3736      79504          1651   \n",
      "11         28         3868      82100          1700   \n",
      "12         28         3753      53915          1261   \n",
      "13         28         2177      79849          3208   \n",
      "\n",
      "                                                 tags  \n",
      "0   ['Cardi B', 'Bodak Yellow', 'Official Music Vi...  \n",
      "1   ['Cardi B', 'SZA', 'I Do', 'Invasion of Privac...  \n",
      "2   ['Cardi B', 'Be Careful', 'Bodak Yellow', 'Inv...  \n",
      "3   ['Cardi B', 'Drip', 'Migos', 'Motorsport', 'Of...  \n",
      "4   ['Cardi B', 'Bartier Cardi', 'Music Video', 'O...  \n",
      "5   ['Cardi B', 'Bad Bunny', 'J Balvin', 'I Like I...  \n",
      "6   ['Cardi B', 'Kehlani', 'Ring', 'Invasion of Pr...  \n",
      "7   ['Cardi B', 'Money Bag', 'Invasion of Privacy'...  \n",
      "8   ['Cardi B', 'Thru Your Phone', 'Invasion of Pr...  \n",
      "9   ['Cardi B', 'Get Up 10', 'Invasion of Privacy'...  \n",
      "10  ['Cardi B', 'YG', 'She Bad', 'Invasion of Priv...  \n",
      "11  ['Cardi B', 'Chance the Rapper', 'Best Life', ...  \n",
      "12  ['Cardi B', 'Bickenhead', 'Invasion of Privacy...  \n",
      "13  ['Cardi B', 'Lick', 'Offset', 'Cardi B Offset'...  \n"
     ]
    }
   ],
   "source": [
    "df = pd.read_sql('SELECT * FROM maintable WHERE channelId=(SELECT channelId FROM videotable WHERE channelTitle=\"Cardi B\")', con=conn)\n",
    "print(df)"
   ]
  },
  {
   "cell_type": "code",
   "execution_count": null,
   "metadata": {
    "collapsed": true
   },
   "outputs": [],
   "source": []
  }
 ],
 "metadata": {
  "kernelspec": {
   "display_name": "Python 3",
   "language": "python",
   "name": "python3"
  },
  "language_info": {
   "codemirror_mode": {
    "name": "ipython",
    "version": 3
   },
   "file_extension": ".py",
   "mimetype": "text/x-python",
   "name": "python",
   "nbconvert_exporter": "python",
   "pygments_lexer": "ipython3",
   "version": "3.6.3"
  }
 },
 "nbformat": 4,
 "nbformat_minor": 2
}
